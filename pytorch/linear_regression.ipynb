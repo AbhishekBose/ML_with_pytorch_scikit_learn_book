{
 "cells": [
  {
   "cell_type": "code",
   "execution_count": 1,
   "metadata": {},
   "outputs": [],
   "source": [
    "import numpy as np\n",
    "from matplotlib import pyplot as plt\n",
    "import torch\n",
    "from torch.utils.data import TensorDataset\n",
    "from torch.utils.data import DataLoader\n",
    "import torch.nn as nn"
   ]
  },
  {
   "cell_type": "code",
   "execution_count": 2,
   "metadata": {},
   "outputs": [],
   "source": [
    "X_train = np.arange(10,dtype=\"float32\").reshape((10,1))\n",
    "y_train = np.array([1.0,1.3,3.1,2.0,5.0,6.3,6.6,7.4,8.0,9.0],dtype=\"float32\")"
   ]
  },
  {
   "cell_type": "code",
   "execution_count": 3,
   "metadata": {},
   "outputs": [
    {
     "data": {
      "image/png": "[encoded data removed]",
      "text/plain": [
       "<Figure size 432x288 with 1 Axes>"
      ]
     },
     "metadata": {
      "needs_background": "light"
     },
     "output_type": "display_data"
    }
   ],
   "source": [
    "plt.plot(X_train, y_train,\"o\",markersize=10)\n",
    "plt.xlabel(\"X\")\n",
    "plt.ylabel(\"Y\")\n",
    "plt.show()"
   ]
  },
  {
   "cell_type": "code",
   "execution_count": 4,
   "metadata": {},
   "outputs": [],
   "source": [
    "X_train_norm = (X_train - np.mean(X_train)) / np.std(X_train)\n",
    "X_train_norm = torch.from_numpy(X_train_norm)\n",
    "y_train = torch.from_numpy(y_train)\n",
    "train_ds = TensorDataset(X_train_norm, y_train)\n",
    "batch_size = 1"
   ]
  },
  {
   "cell_type": "code",
   "execution_count": 5,
   "metadata": {},
   "outputs": [
    {
     "data": {
      "text/plain": [
       "<torch.utils.data.dataset.TensorDataset at 0x7f8dea1cc8b0>"
      ]
     },
     "execution_count": 5,
     "metadata": {},
     "output_type": "execute_result"
    }
   ],
   "source": [
    "train_ds"
   ]
  },
  {
   "cell_type": "code",
   "execution_count": 6,
   "metadata": {},
   "outputs": [],
   "source": [
    "train_dl = DataLoader(train_ds,batch_size=batch_size,shuffle=True)"
   ]
  },
  {
   "cell_type": "code",
   "execution_count": 7,
   "metadata": {},
   "outputs": [
    {
     "data": {
      "text/plain": [
       "<torch.utils.data.dataloader.DataLoader at 0x7f8dea1cc820>"
      ]
     },
     "execution_count": 7,
     "metadata": {},
     "output_type": "execute_result"
    }
   ],
   "source": [
    "train_dl"
   ]
  },
  {
   "cell_type": "code",
   "execution_count": 8,
   "metadata": {},
   "outputs": [],
   "source": [
    "torch.manual_seed(1)\n",
    "weight = torch.randn(1)\n",
    "weight.requires_grad_()\n",
    "bias = torch.zeros(1, requires_grad=True)"
   ]
  },
  {
   "cell_type": "code",
   "execution_count": 9,
   "metadata": {},
   "outputs": [],
   "source": [
    "def model(xb):\n",
    "    return xb @ weight + bias"
   ]
  },
  {
   "cell_type": "code",
   "execution_count": 10,
   "metadata": {},
   "outputs": [],
   "source": [
    "def loss_fn(input, target):\n",
    "    return (input - target).pow(2).mean()"
   ]
  },
  {
   "cell_type": "code",
   "execution_count": 11,
   "metadata": {},
   "outputs": [],
   "source": [
    "#manual sgd\n",
    "learning_rate = 0.001\n",
    "num_epochs = 200\n",
    "log_epochs = 10"
   ]
  },
  {
   "cell_type": "code",
   "execution_count": 12,
   "metadata": {},
   "outputs": [
    {
     "name": "stdout",
     "output_type": "stream",
     "text": [
      "Epoch 0 Loss 5.5008\n",
      "Epoch 10 Loss 31.2428\n",
      "Epoch 20 Loss 27.5271\n",
      "Epoch 30 Loss 0.9601\n",
      "Epoch 40 Loss 3.6391\n",
      "Epoch 50 Loss 5.9984\n",
      "Epoch 60 Loss 3.8104\n",
      "Epoch 70 Loss 1.5914\n",
      "Epoch 80 Loss 0.6104\n",
      "Epoch 90 Loss 1.5627\n",
      "Epoch 100 Loss 0.2550\n",
      "Epoch 110 Loss 0.6917\n",
      "Epoch 120 Loss 0.2630\n",
      "Epoch 130 Loss 0.1589\n",
      "Epoch 140 Loss 0.5990\n",
      "Epoch 150 Loss 0.0634\n",
      "Epoch 160 Loss 0.1160\n",
      "Epoch 170 Loss 0.3468\n",
      "Epoch 180 Loss 0.3250\n",
      "Epoch 190 Loss 0.0954\n"
     ]
    }
   ],
   "source": [
    "for epoch in range(num_epochs):\n",
    "    for x_batch,y_batch in train_dl:\n",
    "        pred = model(x_batch)\n",
    "        loss = loss_fn(pred,y_batch)\n",
    "        loss.backward()\n",
    "    with torch.no_grad():\n",
    "        weight -= weight.grad*learning_rate\n",
    "        bias -= bias.grad*learning_rate\n",
    "        weight.grad.zero_()\n",
    "        bias.grad.zero_()\n",
    "    if epoch % log_epochs == 0:\n",
    "        print(f'Epoch {epoch} Loss {loss.item():.4f}')"
   ]
  },
  {
   "cell_type": "code",
   "execution_count": 13,
   "metadata": {},
   "outputs": [
    {
     "name": "stdout",
     "output_type": "stream",
     "text": [
      "Final paramters are :: Weight --> 2.670930862426758 and Bias --> 4.88258695602417\n"
     ]
    }
   ],
   "source": [
    "print(f\"Final paramters are :: Weight --> {weight.item()} and Bias --> {bias.item()}\")\n"
   ]
  },
  {
   "cell_type": "code",
   "execution_count": 14,
   "metadata": {},
   "outputs": [],
   "source": [
    "X_test = np.linspace(0,9,num=100, dtype=\"float32\").reshape(-1,1)\n",
    "X_test_norm = (X_test - np.mean(X_test)) / np.std(X_test)\n",
    "X_test_norm = torch.from_numpy(X_test_norm)\n",
    "y_pred = model(X_test_norm).detach().numpy()"
   ]
  },
  {
   "cell_type": "code",
   "execution_count": 15,
   "metadata": {},
   "outputs": [
    {
     "data": {
      "image/png": "[encoded data removed]",
      "text/plain": [
       "<Figure size 936x360 with 1 Axes>"
      ]
     },
     "metadata": {
      "needs_background": "light"
     },
     "output_type": "display_data"
    }
   ],
   "source": [
    "fig = plt.figure(figsize=(13,5))\n",
    "ax = fig.add_subplot(1,2,1)\n",
    "plt.plot(X_train_norm,y_train,'o',markersize=10)\n",
    "plt.plot(X_test_norm,y_pred,\"--\",lw=3)\n",
    "plt.legend([\"Training examples\",\"Linear reg\"],fontsize = 15)\n",
    "ax.set_xlabel('x',size=15)\n",
    "ax.set_ylabel('y',size=15)\n",
    "ax.tick_params(axis=\"both\",which=\"major\",labelsize=15)\n",
    "plt.show()"
   ]
  },
  {
   "cell_type": "code",
   "execution_count": 16,
   "metadata": {},
   "outputs": [],
   "source": [
    "#model training using nn.module and torch.optim\n",
    "loss_fn = nn.MSELoss(reduction=\"mean\")\n",
    "input_size = 1\n",
    "output_size = 1\n",
    "model = nn.Linear(input_size,output_size)\n",
    "optimizer = torch.optim.SGD(model.parameters(),lr=learning_rate)"
   ]
  },
  {
   "cell_type": "code",
   "execution_count": 17,
   "metadata": {},
   "outputs": [
    {
     "name": "stdout",
     "output_type": "stream",
     "text": [
      "Epoch 0 Loss 38.7543\n",
      "Epoch 10 Loss 2.0970\n",
      "Epoch 20 Loss 30.4347\n",
      "Epoch 30 Loss 0.7147\n",
      "Epoch 40 Loss 13.1391\n",
      "Epoch 50 Loss 6.6279\n",
      "Epoch 60 Loss 4.2347\n",
      "Epoch 70 Loss 4.7506\n",
      "Epoch 80 Loss 1.1948\n",
      "Epoch 90 Loss 1.4845\n",
      "Epoch 100 Loss 0.2175\n",
      "Epoch 110 Loss 1.0143\n",
      "Epoch 120 Loss 0.1618\n",
      "Epoch 130 Loss 0.7065\n",
      "Epoch 140 Loss 1.4043\n",
      "Epoch 150 Loss 0.0693\n",
      "Epoch 160 Loss 0.2174\n",
      "Epoch 170 Loss 0.0928\n",
      "Epoch 180 Loss 0.0979\n",
      "Epoch 190 Loss 0.0005\n"
     ]
    }
   ],
   "source": [
    "for epoch in range(num_epochs):\n",
    "    for x_batch, y_batch in train_dl:\n",
    "        #generate_predictions\n",
    "        pred = model(x_batch)[:,0]\n",
    "        #Calculate loss\n",
    "        loss = loss_fn(pred, y_batch)\n",
    "        #compute gradients\n",
    "        loss.backward()\n",
    "        #update params using gradients\n",
    "        optimizer.step()\n",
    "        #reset gradients to zero\n",
    "        optimizer.zero_grad()\n",
    "    if epoch % log_epochs == 0:\n",
    "        print(f'Epoch {epoch} Loss {loss.item():.4f}')"
   ]
  },
  {
   "cell_type": "code",
   "execution_count": 18,
   "metadata": {},
   "outputs": [
    {
     "name": "stdout",
     "output_type": "stream",
     "text": [
      "Final paramters are :: Weight --> 2.6650238037109375 and Bias --> 4.877845287322998\n"
     ]
    }
   ],
   "source": [
    "print(f\"Final paramters are :: Weight --> {model.weight.item()} and Bias --> {model.bias.item()}\")\n"
   ]
  },
  {
   "cell_type": "code",
   "execution_count": null,
   "metadata": {},
   "outputs": [],
   "source": []
  }
 ],
 "metadata": {
  "interpreter": {
   "hash": "40d3a090f54c6569ab1632332b64b2c03c39dcf918b08424e98f38b5ae0af88f"
  },
  "kernelspec": {
   "display_name": "Python 3.8.5 ('base')",
   "language": "python",
   "name": "python3"
  },
  "language_info": {
   "codemirror_mode": {
    "name": "ipython",
    "version": 3
   },
   "file_extension": ".py",
   "mimetype": "text/x-python",
   "name": "python",
   "nbconvert_exporter": "python",
   "pygments_lexer": "ipython3",
   "version": "3.8.5"
  },
  "orig_nbformat": 4
 },
 "nbformat": 4,
 "nbformat_minor": 2
}
